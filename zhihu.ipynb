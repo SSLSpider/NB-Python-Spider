{
 "cells": [
  {
   "cell_type": "code",
   "execution_count": 24,
   "metadata": {
    "scrolled": true
   },
   "outputs": [
    {
     "name": "stdout",
     "output_type": "stream",
     "text": [
      "https://pic3.zhimg.com/v2-a18a9759ba666ed5d684e3d7a84f877e_xs.jpg\n",
      "https://pic3.zhimg.com/v2-e0b4f60a9feabeba45c61c1ea7f7db62_b.jpg\n",
      "//zhstatic.zhihu.com/assets/zhihu/ztext/whitedot.jpg\n",
      "https://pic4.zhimg.com/v2-b66b63c9c413262997615a6ce543aae3_b.jpg\n",
      "//zhstatic.zhihu.com/assets/zhihu/ztext/whitedot.jpg\n",
      "https://pic1.zhimg.com/v2-f319341c04ffdeed9fb955466a352bfc_b.jpg\n",
      "//zhstatic.zhihu.com/assets/zhihu/ztext/whitedot.jpg\n",
      "https://pic3.zhimg.com/v2-c582fd0aca2c8d0dd7333c476432c6e2_b.jpg\n",
      "//zhstatic.zhihu.com/assets/zhihu/ztext/whitedot.jpg\n",
      "https://pic4.zhimg.com/v2-ed36cd190d05032fc85e1a712293d377_b.jpg\n",
      "//zhstatic.zhihu.com/assets/zhihu/ztext/whitedot.jpg\n",
      "https://pic2.zhimg.com/v2-b9f0c3423e581bc8301eb84e70a92741_b.png\n",
      "//zhstatic.zhihu.com/assets/zhihu/ztext/whitedot.jpg\n",
      "https://pic4.zhimg.com/v2-6fcf0492524ee2fcc8025bc0c289e61f_b.png\n",
      "//zhstatic.zhihu.com/assets/zhihu/ztext/whitedot.jpg\n",
      "https://pic1.zhimg.com/v2-b38af4b79c8683e1c30411a15b61657c_b.jpg\n",
      "//zhstatic.zhihu.com/assets/zhihu/ztext/whitedot.jpg\n",
      "https://pic4.zhimg.com/v2-3808468b572917af8d535127aad468f3_xs.jpg\n",
      "https://pic3.zhimg.com/v2-0dcadc212c0d77df847288ec0249b6de_b.jpg\n",
      "//zhstatic.zhihu.com/assets/zhihu/ztext/whitedot.jpg\n",
      "https://pic2.zhimg.com/v2-739c212219fde694e37447645e9a0309_b.jpg\n",
      "//zhstatic.zhihu.com/assets/zhihu/ztext/whitedot.jpg\n",
      "https://pic3.zhimg.com/v2-4eb92414f109d5f401856614bbe65562_b.jpg\n",
      "//zhstatic.zhihu.com/assets/zhihu/ztext/whitedot.jpg\n",
      "https://pic3.zhimg.com/v2-5406737dfd42f533a8faac7153986252_b.jpg\n",
      "//zhstatic.zhihu.com/assets/zhihu/ztext/whitedot.jpg\n",
      "https://pic3.zhimg.com/v2-244085d7128d0d3db3f9cabd771a4666_b.jpg\n",
      "//zhstatic.zhihu.com/assets/zhihu/ztext/whitedot.jpg\n",
      "https://pic4.zhimg.com/v2-b6c314b44be97525da995fed51945293_b.jpg\n",
      "//zhstatic.zhihu.com/assets/zhihu/ztext/whitedot.jpg\n",
      "https://pic2.zhimg.com/v2-96d873910e2be29603537b90217c5251_b.jpg\n",
      "//zhstatic.zhihu.com/assets/zhihu/ztext/whitedot.jpg\n",
      "https://pic1.zhimg.com/v2-80aa56311d181973891a826d9bb1b6a0_b.jpg\n",
      "//zhstatic.zhihu.com/assets/zhihu/ztext/whitedot.jpg\n",
      "https://pic4.zhimg.com/v2-d30941910f929d8d35a890b253a6d5ef_b.jpg\n",
      "//zhstatic.zhihu.com/assets/zhihu/ztext/whitedot.jpg\n",
      "https://pic3.zhimg.com/v2-fdc0fb32d6811bb8ee2b44681fee55c6_b.jpg\n",
      "//zhstatic.zhihu.com/assets/zhihu/ztext/whitedot.jpg\n",
      "https://pic2.zhimg.com/v2-8946e9a370851a01af1cc38b688eb689_b.jpg\n",
      "//zhstatic.zhihu.com/assets/zhihu/ztext/whitedot.jpg\n",
      "https://pic1.zhimg.com/v2-accb2817e7d5d73599769aa32b9a27d0_b.jpg\n",
      "//zhstatic.zhihu.com/assets/zhihu/ztext/whitedot.jpg\n",
      "https://pic4.zhimg.com/v2-7f2e27803d046eeed01cb3f5e4ade647_b.jpg\n",
      "//zhstatic.zhihu.com/assets/zhihu/ztext/whitedot.jpg\n",
      "https://pic4.zhimg.com/v2-c2021f8913608eb588c6f7dc0929306b_b.jpg\n",
      "//zhstatic.zhihu.com/assets/zhihu/ztext/whitedot.jpg\n",
      "https://pic1.zhimg.com/v2-0e584ba72e23d8244d2cd1dd7099cc78_b.jpg\n",
      "//zhstatic.zhihu.com/assets/zhihu/ztext/whitedot.jpg\n",
      "data:image/png;base64,iVBORw0KGgoAAAANSUhEUgAAAGQAAABkCAYAAABw4pVUAAAEDElEQVR4Ae3cQW5cRwwE0FGgAzhA7porxGe1gRxBWev9RaHRPc0syrsCySKnCmRjJMgfP/759fW6+O/fv//61u3Pn7+/YePfgq/Xy3zj1ptv3Hqx9cZP4z9OE5ZvT4Easqff8eoaclzSPcJPy1dvrPXi1Ruc8p3PfLHz7GL77/I5bzdkV9HD9TXksKC7dDVkV8HD9Y83RH5vnHHx6o1N+fYX218sf6o3Xz5x4jM/8XdDVGwY15BhA2xfQ1RkGMc3ZHi+R/t0gy1YvfHW38bdkNuKh341JAh0O1xDbise+o2/Ias33vzVN0U9duvl28XdkF0FD9fXkMOC7tLVkF0FD9fHN+T2jU39fEOSHokv1af4af5uSFL8cryGXBY8tashSaHL8ccbsnqj3z2v83iz3x3389nP+C7uhuwqeLi+hhwWdJeuhuwqeLj+05t8mP843btvuAPf1qcbogPDuIYMG2D7GqIiw/hj9e9D0k1NN976lK8+1htf5bN+F+/O1w3ZdeBwfQ05LOguXQ3ZVfBw/eN7iDc43UTn2c23v/yrOM1jP/ON2z/lG7de3A1RkWFcQ4YNsH0NUZFh/PH19fXt79RXb6bzr9abn27uav7qfOY7j/3NTzjxdUOSgpfjNeSy4KldDUkKXY7Hn2V583bn8wbLn+Kpf6rfjdtfPuN+PuPiboiKDOMaMmyA7WuIigzj+LMs50s303yxN3WVbzXf/uLEl+J+HvkTlr8bkhS7HK8hlwVP7WpIUuhy/PGzrNX+3kDrV2+sfKl+Nd/5Ur1x69N85ie+boiKDeMaMmyA7WuIigzjz3TTVm+k+fKn+K4e9kt8zmO+8cSf4omvG6IDw7iGDBtg+xqiIsN4+XuIN9KbuPp5Ep/xxO88p+sTv/E0r/FuiIoM4xoybIDta4iKDOP4PcT50o1MNzvV20+c6lf7my+2f4qbL7bez9MNUbFhXEOGDbB9DVGRYfz4nfruPN7E/xtfmmd1ft8E+Y3Lb7wbooLDuIYMG2D7GqIiw3j5e8juvN5QceL35lovTnwpnvpZv5pvfTdERYZxDRk2wPY1REWG8eP/XHz3DfbzenONi9N88qV8+cWr9Snf+ezXDVGRYVxDhg2wfQ1RkWH8eEOcJ90889MNXc23v1i+hFN9iq/yr+rRDUkKX47XkMuCp3Y1JCl0OR7fkMvzvNIN9yabbzzNb37iM574U779uyFJ0cvxGnJZ8NSuhiSFLsfH35B0Y1f1SHze7JRv/1Rv3Hr7ibshKjaMa8iwAbavISoyjOMbkm7i6fnt540V2//d9fZbxc5nfTdERYZxDRk2wPY1REWG8eMNSTf69rzp5jpPml8+88XyW2/c+tX8boiKDuMaMmyA7WuIigzj/wC7sm2izpKNiwAAAABJRU5ErkJggg==\n"
     ]
    }
   ],
   "source": [
    "from urllib.request import urlretrieve\n",
    "import urllib.request\n",
    "from bs4 import BeautifulSoup as Soup\n",
    "\n",
    "targeturl = 'https://www.zhihu.com/question/61235373'\n",
    "count = 0\n",
    "imagelist = []\n",
    "req = urllib.request.Request(targeturl)\n",
    "html = urllib.request.urlopen(req)\n",
    "bsObj = Soup(html, 'lxml')\n",
    "\n",
    "#print(bsObj.get_text())\n",
    "t = bsObj.findAll('img')\n",
    "for a in t:\n",
    "    if 'src' in a.attrs:\n",
    "        print(a.attrs['src'])"
   ]
  },
  {
   "cell_type": "code",
   "execution_count": 31,
   "metadata": {
    "scrolled": true
   },
   "outputs": [
    {
     "name": "stdout",
     "output_type": "stream",
     "text": [
      "2\n",
      "46\n",
      "https://pic3.zhimg.com/v2-e0b4f60a9feabeba45c61c1ea7f7db62_b.jpg\n",
      "https://pic4.zhimg.com/v2-b66b63c9c413262997615a6ce543aae3_b.jpg\n",
      "https://pic1.zhimg.com/v2-f319341c04ffdeed9fb955466a352bfc_b.jpg\n",
      "https://pic3.zhimg.com/v2-c582fd0aca2c8d0dd7333c476432c6e2_b.jpg\n",
      "https://pic4.zhimg.com/v2-ed36cd190d05032fc85e1a712293d377_b.jpg\n",
      "https://pic2.zhimg.com/v2-b9f0c3423e581bc8301eb84e70a92741_b.png\n",
      "https://pic4.zhimg.com/v2-6fcf0492524ee2fcc8025bc0c289e61f_b.png\n",
      "https://pic1.zhimg.com/v2-b38af4b79c8683e1c30411a15b61657c_b.jpg\n",
      "https://pic3.zhimg.com/v2-0dcadc212c0d77df847288ec0249b6de_b.jpg\n",
      "https://pic2.zhimg.com/v2-739c212219fde694e37447645e9a0309_b.jpg\n",
      "https://pic3.zhimg.com/v2-4eb92414f109d5f401856614bbe65562_b.jpg\n",
      "https://pic3.zhimg.com/v2-5406737dfd42f533a8faac7153986252_b.jpg\n",
      "https://pic3.zhimg.com/v2-244085d7128d0d3db3f9cabd771a4666_b.jpg\n",
      "https://pic4.zhimg.com/v2-b6c314b44be97525da995fed51945293_b.jpg\n",
      "https://pic2.zhimg.com/v2-96d873910e2be29603537b90217c5251_b.jpg\n",
      "https://pic1.zhimg.com/v2-80aa56311d181973891a826d9bb1b6a0_b.jpg\n",
      "https://pic4.zhimg.com/v2-d30941910f929d8d35a890b253a6d5ef_b.jpg\n",
      "https://pic3.zhimg.com/v2-fdc0fb32d6811bb8ee2b44681fee55c6_b.jpg\n",
      "https://pic2.zhimg.com/v2-8946e9a370851a01af1cc38b688eb689_b.jpg\n",
      "https://pic1.zhimg.com/v2-accb2817e7d5d73599769aa32b9a27d0_b.jpg\n",
      "https://pic4.zhimg.com/v2-7f2e27803d046eeed01cb3f5e4ade647_b.jpg\n",
      "https://pic4.zhimg.com/v2-c2021f8913608eb588c6f7dc0929306b_b.jpg\n",
      "https://pic1.zhimg.com/v2-0e584ba72e23d8244d2cd1dd7099cc78_b.jpg\n"
     ]
    }
   ],
   "source": [
    "imagelist = []\n",
    "html = urllib.request.urlopen(urllib.request.Request(targeturl))\n",
    "bsObj = Soup(html, 'lxml')\n",
    "answerlist = bsObj.findAll('div', {'class':'List-item'})\n",
    "print(len(answerlist))\n",
    "for answer in answerlist:\n",
    "    templist = answer.find('div', {'class':'RichContent-inner'}).findAll('img')\n",
    "    for each in templist:\n",
    "        if 'src' in each.attrs:\n",
    "            imagelist.append(each.attrs['src'])\n",
    "print(len(imagelist))\n",
    "for imagelocation in imagelist:\n",
    "    #path = 'E:/pic/'+str(count)+'.jpg'\n",
    "    #urlretrieve(imagelocation., path)\n",
    "    if 'https://' in imagelocation:\n",
    "        print(imagelocation)"
   ]
  },
  {
   "cell_type": "code",
   "execution_count": 33,
   "metadata": {},
   "outputs": [],
   "source": [
    "count = 0\n",
    "for imagelocation in imagelist:\n",
    "    #path = 'E:/pic/'+str(count)+'.jpg'\n",
    "    p = str(count)+'.jpg'\n",
    "    if 'https:' in imagelocation:\n",
    "        urlretrieve(location, p)\n",
    "        count += 1"
   ]
  },
  {
   "cell_type": "code",
   "execution_count": null,
   "metadata": {
    "collapsed": true
   },
   "outputs": [],
   "source": []
  }
 ],
 "metadata": {
  "kernelspec": {
   "display_name": "spider",
   "language": "python",
   "name": "spider"
  },
  "language_info": {
   "codemirror_mode": {
    "name": "ipython",
    "version": 3
   },
   "file_extension": ".py",
   "mimetype": "text/x-python",
   "name": "python",
   "nbconvert_exporter": "python",
   "pygments_lexer": "ipython3",
   "version": "3.5.3"
  }
 },
 "nbformat": 4,
 "nbformat_minor": 2
}
